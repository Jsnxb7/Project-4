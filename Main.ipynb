{
 "cells": [
  {
   "cell_type": "code",
   "execution_count": 2,
   "metadata": {},
   "outputs": [],
   "source": [
    "import pandas as pd\n",
    "import os\n",
    "import json\n",
    "from datetime import datetime, timedelta"
   ]
  },
  {
   "cell_type": "code",
   "execution_count": null,
   "metadata": {},
   "outputs": [
    {
     "name": "stdout",
     "output_type": "stream",
     "text": [
      "Saved New_Account -> json_output\\New_Account.json\n",
      "Saved New_Card -> json_output\\New_Card.json\n",
      "Saved District -> json_output\\District.json\n",
      "Saved Loan -> json_output\\Loan.json\n",
      "Saved New_Client -> json_output\\New_Client.json\n",
      "Saved New_Disposition -> json_output\\New_Disposition.json\n",
      "Saved New_Transaction -> json_output\\New_Transaction.json\n",
      "Saved Order -> json_output\\Order.json\n"
     ]
    }
   ],
   "source": [
    "excel_path = \"data.xlsx\"\n",
    "\n",
    "output_dir = \"json_output\"\n",
    "os.makedirs(output_dir, exist_ok=True)\n",
    "excel_data = pd.read_excel(excel_path, sheet_name=None)\n",
    "\n",
    "for sheet_name, df in excel_data.items():\n",
    "    safe_name = sheet_name.replace(\" \", \"_\").replace(\"/\", \"_\")\n",
    "    json_file_path = os.path.join(output_dir, f\"{safe_name}.json\")\n",
    "    \n",
    "    df.to_json(json_file_path, orient='records', indent=2)\n",
    "\n",
    "    print(f\"Saved {sheet_name} -> {json_file_path}\")"
   ]
  },
  {
   "cell_type": "code",
   "execution_count": 10,
   "metadata": {},
   "outputs": [],
   "source": [
    "df = pd.read_excel('Data_Dictionary.xlsx')\n",
    "df.columns = df.columns.str.strip()\n",
    "\n",
    "df.to_json(\"dict.json\", orient='records', indent=2)"
   ]
  },
  {
   "cell_type": "markdown",
   "metadata": {},
   "source": [
    "Prepare a dashboard for the All the Accounts doing Credit transactions from Moravia and\n",
    "Prague. Prepare the Aggregated View of the transactions basis on 2 things i.e.\n",
    "a. Account Wise\n",
    "b. Month Wise\n",
    "c. Account and Month wise"
   ]
  },
  {
   "cell_type": "code",
   "execution_count": null,
   "metadata": {},
   "outputs": [
    {
     "name": "stdout",
     "output_type": "stream",
     "text": [
      "Aggregated credit transaction data saved to 'aggregated_credit_transactions.json'\n"
     ]
    }
   ],
   "source": [
    "district_df = pd.read_json('json_output/District.json')\n",
    "account_df = pd.read_json('json_output/New_Account.json')\n",
    "transaction_df = pd.read_json('json_output/New_Transaction.json')\n",
    "\n",
    "target_regions = ['Moravia', 'Prague']\n",
    "filtered_districts = district_df[district_df['A3'].isin(target_regions)]\n",
    "target_district_ids = filtered_districts['A1'].tolist()\n",
    "filtered_accounts = account_df[account_df['district_id'].isin(target_district_ids)]\n",
    "target_account_ids = filtered_accounts['account_id'].tolist()\n",
    "credit_txn = transaction_df[\n",
    "    (transaction_df['account_id'].isin(target_account_ids)) &\n",
    "    (transaction_df['type'] == 'CREDIT')\n",
    "].copy()\n",
    "\n",
    "def parse_ymd(ymd):\n",
    "    ymd = int(ymd)\n",
    "    year = 1900 + int(str(ymd)[:2])\n",
    "    month = int(str(ymd)[2:4])\n",
    "    return f\"{year:04d}-{month:02d}\"\n",
    "\n",
    "credit_txn['month'] = credit_txn['date'].apply(parse_ymd)\n",
    "agg_account = credit_txn.groupby('account_id')['amount'].sum().reset_index()\n",
    "agg_account.rename(columns={'amount': 'total_credit'}, inplace=True)\n",
    "agg_month = credit_txn.groupby('month')['amount'].sum().reset_index()\n",
    "agg_month.rename(columns={'amount': 'total_credit'}, inplace=True)\n",
    "agg_account_month = credit_txn.groupby(['account_id', 'month'])['amount'].sum().reset_index()\n",
    "agg_account_month.rename(columns={'amount': 'total_credit'}, inplace=True)\n",
    "output = {\n",
    "    \"account_wise\": agg_account.to_dict(orient='records'),\n",
    "    \"month_wise\": agg_month.to_dict(orient='records'),\n",
    "    \"account_month_wise\": agg_account_month.to_dict(orient='records')\n",
    "}\n",
    "with open('aggregated_credit_transactions.json', 'w') as f:\n",
    "    json.dump(output, f, indent=2)\n",
    "\n",
    "print(\"Aggregated credit transaction data saved to 'aggregated_credit_transactions.json'\")"
   ]
  },
  {
   "cell_type": "markdown",
   "metadata": {},
   "source": [
    "Analysis on Highly populated versus Low populated districts. Find out the amount of Credit\n",
    "and Debit transaction from 5 highly populated and 5 lowest populated areas respectively,\n",
    "above analysis should be from last 3 months"
   ]
  },
  {
   "cell_type": "code",
   "execution_count": null,
   "metadata": {},
   "outputs": [
    {
     "name": "stdout",
     "output_type": "stream",
     "text": [
      "     type      amount               group\n",
      "0  CREDIT  58737742.9     Top 5 Populated\n",
      "1   DEBIT  53807327.0     Top 5 Populated\n",
      "2  CREDIT  13801016.8  Bottom 5 Populated\n",
      "3   DEBIT  12926596.8  Bottom 5 Populated\n"
     ]
    }
   ],
   "source": [
    "top_5 = district_df.nlargest(5, 'A4')\n",
    "bottom_5 = district_df.nsmallest(5, 'A4')\n",
    "top_ids = top_5['A1'].tolist()\n",
    "bottom_ids = bottom_5['A1'].tolist()\n",
    "top_acc_ids = account_df[account_df['district_id'].isin(top_ids)]['account_id']\n",
    "bottom_acc_ids = account_df[account_df['district_id'].isin(bottom_ids)]['account_id']\n",
    "\n",
    "def parse_date(ymd):\n",
    "    ymd = int(ymd)\n",
    "    year = 1900 + int(str(ymd)[:2])\n",
    "    month = int(str(ymd)[2:4])\n",
    "    day = int(str(ymd)[4:6])\n",
    "    return datetime(year, month, day)\n",
    "transaction_df['parsed_date'] = transaction_df['date'].apply(parse_date)\n",
    "max_date = transaction_df['parsed_date'].max()\n",
    "cutoff_date = max_date - timedelta(days=90)\n",
    "txn_recent = transaction_df[\n",
    "    (transaction_df['parsed_date'] >= cutoff_date) &\n",
    "    (transaction_df['type'].isin(['CREDIT', 'DEBIT']))\n",
    "]\n",
    "def summarize_group(acc_ids, label):\n",
    "    group_txn = txn_recent[txn_recent['account_id'].isin(acc_ids)]\n",
    "    summary = group_txn.groupby('type')['amount'].sum().reset_index()\n",
    "    summary['group'] = label\n",
    "    return summary\n",
    "top_summary = summarize_group(top_acc_ids, 'Top 5 Populated')\n",
    "bottom_summary = summarize_group(bottom_acc_ids, 'Bottom 5 Populated')\n",
    "final_summary = pd.concat([top_summary, bottom_summary], ignore_index=True)\n",
    "final_summary.to_json('populated_district_txn_summary.json', orient='records', indent=2)\n",
    "\n",
    "print(final_summary)"
   ]
  },
  {
   "cell_type": "markdown",
   "metadata": {},
   "source": [
    "How many cards are issued to mid age females?"
   ]
  },
  {
   "cell_type": "code",
   "execution_count": null,
   "metadata": {},
   "outputs": [
    {
     "name": "stdout",
     "output_type": "stream",
     "text": [
      "Cards issued to mid-age females: 227\n"
     ]
    }
   ],
   "source": [
    "clients = pd.read_json(\"json_output/New_Client.json\")\n",
    "disps = pd.read_json(\"json_output/New_Disposition.json\")\n",
    "cards = pd.read_json(\"json_output/New_Card.json\")\n",
    "\n",
    "mid_age_females = clients[\n",
    "    (clients[\"gender\"] == \"FEMALE\") & \n",
    "    (clients[\"age_levels\"].str.upper() == \"MIDDLE AGED\")\n",
    "]\n",
    "mid_female_ids = mid_age_females[\"client_id\"]\n",
    "relevant_disps = disps[disps[\"client_id\"].isin(mid_female_ids)]\n",
    "issued_cards = cards[cards[\"disp_id\"].isin(relevant_disps[\"disp_id\"])]\n",
    "num_cards = len(issued_cards)\n",
    "print(f\"Cards issued to mid-age females: {num_cards}\")\n"
   ]
  },
  {
   "cell_type": "markdown",
   "metadata": {},
   "source": [
    "Number of cards issued in district where average salary is more than 9000, is it a good\n",
    "strategy?"
   ]
  },
  {
   "cell_type": "code",
   "execution_count": 45,
   "metadata": {},
   "outputs": [
    {
     "name": "stdout",
     "output_type": "stream",
     "text": [
      "Number of cards issued in districts with average salary > 9000: 437\n"
     ]
    }
   ],
   "source": [
    "district_df = pd.read_json('json_output/District.json')\n",
    "account_df = pd.read_json('json_output/New_Account.json')\n",
    "disposition_df = pd.read_json('json_output/New_Disposition.json')\n",
    "card_df = pd.read_json('json_output/New_Card.json')\n",
    "\n",
    "rich_district_ids = district_df[district_df['A11'] > 9000]['A1']\n",
    "rich_accounts = account_df[account_df['district_id'].isin(rich_district_ids)]['account_id']\n",
    "rich_disps = disposition_df[disposition_df['account_id'].isin(rich_accounts)]\n",
    "cards_in_rich_districts = card_df[card_df['disp_id'].isin(rich_disps['disp_id'])]\n",
    "card_count = len(cards_in_rich_districts)\n",
    "print(f\"Number of cards issued in districts with average salary > 9000: {card_count}\")"
   ]
  },
  {
   "cell_type": "markdown",
   "metadata": {},
   "source": [
    "Are we providing loans to members belonging to district where committed crimes are more\n",
    "than 6000 for code 95, if yes then provide the number of loans per district?"
   ]
  },
  {
   "cell_type": "code",
   "execution_count": 66,
   "metadata": {},
   "outputs": [
    {
     "name": "stdout",
     "output_type": "stream",
     "text": [
      "Loans in districts with >6000 crimes (1995):\n",
      "   district_id                A2      A15  loan_count\n",
      "0            1       Hl.m. Praha  85677.0          84\n",
      "1           14  Ceske Budejovice   6604.0           8\n",
      "2           26     Plzen - mesto   6041.0           6\n",
      "3           40           Teplice   6949.0           6\n",
      "4           41    Usti nad Labem   6445.0           3\n",
      "5           47         Pardubice   6079.0          10\n",
      "6           54      Brno - mesto  18721.0          24\n",
      "7           70           Karvina   9878.0          24\n",
      "8           72           Olomouc   9672.0          14\n",
      "9           74   Ostrava - mesto  18782.0          20\n"
     ]
    }
   ],
   "source": [
    "district_df = pd.read_json('json_output/District.json')\n",
    "account_df = pd.read_json('json_output/New_Account.json')\n",
    "loan_df = pd.read_json('json_output/Loan.json')\n",
    "\n",
    "district_df['A15'] = pd.to_numeric(district_df['A15'], errors='coerce')\n",
    "crime_districts = district_df[district_df['A15'] > 6000]\n",
    "crime_district_ids = crime_districts['A1'].tolist()\n",
    "accounts_in_crime_districts = account_df[account_df['district_id'].isin(crime_district_ids)]\n",
    "loans_in_crime_districts = loan_df.merge(\n",
    "    accounts_in_crime_districts[['account_id', 'district_id']],\n",
    "    on='account_id'\n",
    ")\n",
    "loan_counts = loans_in_crime_districts.groupby('district_id').size().reset_index(name='loan_count')\n",
    "loan_counts = loan_counts.merge(\n",
    "    district_df[['A1', 'A2', 'A15']],\n",
    "    left_on='district_id',\n",
    "    right_on='A1'\n",
    ")[['district_id', 'A2', 'A15', 'loan_count']]\n",
    "print(\"Loans in districts with >6000 crimes (1995):\")\n",
    "print(loan_counts)\n",
    "loan_counts.to_json('loans_in_high_crime_districts.json', orient='records', indent=2)"
   ]
  },
  {
   "cell_type": "markdown",
   "metadata": {},
   "source": [
    "Create profile of customers in accordance of districts where max money is being paid to\n",
    "a. Insurance.\n",
    "b. Household\n",
    "c. Leasing\n",
    "d. Loan"
   ]
  },
  {
   "cell_type": "code",
   "execution_count": 48,
   "metadata": {},
   "outputs": [],
   "source": [
    "transactions = pd.read_json(\"json_output/New_Transaction.json\")\n",
    "accounts = pd.read_json(\"json_output/New_Account.json\")\n",
    "dispositions = pd.read_json(\"json_output/New_Disposition.json\")\n",
    "clients = pd.read_json(\"json_output/New_Client.json\")\n",
    "districts = pd.read_json(\"json_output/District.json\")\n",
    "\n",
    "txn_acc = transactions.merge(accounts[['account_id', 'district_id']], on='account_id', how='left')\n",
    "categories = {\n",
    "    \"Insurance\": \"insurance\",\n",
    "    \"Household\": \"household\",\n",
    "    \"Leasing\": \"leasing\",\n",
    "    \"Loan\": \"loan\"\n",
    "}\n",
    "\n",
    "profiles = {}\n",
    "for label, symbol in categories.items():\n",
    "    cat_txn = txn_acc[txn_acc['k_symbol'].str.lower().fillna('').str.contains(symbol)]\n",
    "    district_sum = cat_txn.groupby('district_id')['amount'].sum().reset_index()\n",
    "\n",
    "    if district_sum.empty:\n",
    "        continue\n",
    "    top_row = district_sum.loc[district_sum['amount'].idxmax()]\n",
    "    top_district_id = top_row['district_id']\n",
    "    total_amount = top_row['amount']\n",
    "    district_name = districts[districts['A1'] == top_district_id]['A2'].values[0]\n",
    "    top_accounts = accounts[accounts['district_id'] == top_district_id]['account_id']\n",
    "    disp = dispositions[dispositions['account_id'].isin(top_accounts)]\n",
    "    client_profiles = clients[clients['client_id'].isin(disp['client_id'])]\n",
    "    profile_summary = client_profiles[['client_id', 'gender', 'age', 'age_levels']].to_dict(orient='records')\n",
    "    profiles[label] = {\n",
    "        \"district_id\": int(top_district_id),\n",
    "        \"district_name\": district_name,\n",
    "        \"total_amount_paid\": float(total_amount),\n",
    "        \"num_customers\": len(profile_summary),\n",
    "        \"customers\": profile_summary\n",
    "    }\n",
    "with open(\"category_wise_customer_profiles.json\", \"w\") as f:\n",
    "    json.dump(profiles, f, indent=2)\n"
   ]
  },
  {
   "cell_type": "markdown",
   "metadata": {},
   "source": [
    "Create profile of customers in accordance of districts for the status of loan payment, there will\n",
    "be 4 categories.\n",
    "Relate the output of above with district conditions like Crime, Unemployment Rate and\n",
    "Average Salary."
   ]
  },
  {
   "cell_type": "code",
   "execution_count": 50,
   "metadata": {},
   "outputs": [],
   "source": [
    "loan_df = pd.read_json(\"json_output/Loan.json\")\n",
    "account_df = pd.read_json(\"json_output/New_Account.json\")\n",
    "disp_df = pd.read_json(\"json_output/New_Disposition.json\")\n",
    "client_df = pd.read_json(\"json_output/New_Client.json\")\n",
    "district_df = pd.read_json(\"json_output/District.json\")\n",
    "\n",
    "loan_df = loan_df.merge(account_df[['account_id', 'district_id']], on='account_id', how='left')\n",
    "loan_df = loan_df.merge(disp_df[['account_id', 'client_id']], on='account_id', how='left')\n",
    "loan_df = loan_df.merge(client_df[['client_id', 'gender', 'age', 'age_levels']], on='client_id', how='left')\n",
    "loan_df = loan_df.merge(district_df, left_on='district_id', right_on='A1', how='left')\n",
    "profile_by_status = {}\n",
    "for status in ['A', 'B', 'C', 'D']:\n",
    "    df_status = loan_df[loan_df['status'] == status]\n",
    "    customer_info = df_status[[\n",
    "        'client_id', 'gender', 'age', 'age_levels',\n",
    "        'district_id', 'A2', 'A11', 'A12', 'A13', 'A15'\n",
    "    ]].drop_duplicates()\n",
    "    customer_info.rename(columns={\n",
    "        'A2': 'district_name',\n",
    "        'A11': 'average_salary',\n",
    "        'A12': 'unemployment_95',\n",
    "        'A13': 'unemployment_96',\n",
    "        'A15': 'crimes_95'\n",
    "    }, inplace=True)\n",
    "    profile_by_status[status] = {\n",
    "        \"status_meaning\": {\n",
    "            \"A\": \"Finished - No problems\",\n",
    "            \"B\": \"Finished - Loan not paid\",\n",
    "            \"C\": \"Running - OK\",\n",
    "            \"D\": \"Running - In debt\"\n",
    "        }[status],\n",
    "        \"num_customers\": len(customer_info),\n",
    "        \"customers\": customer_info.to_dict(orient='records')\n",
    "    }\n",
    "with open(\"loan_status_customer_profiles.json\", \"w\") as f:\n",
    "    json.dump(profile_by_status, f, indent=2)"
   ]
  },
  {
   "cell_type": "markdown",
   "metadata": {},
   "source": [
    "Owners from which district are issuing permanent orders and asking for a loan"
   ]
  },
  {
   "cell_type": "code",
   "execution_count": null,
   "metadata": {},
   "outputs": [
    {
     "name": "stdout",
     "output_type": "stream",
     "text": [
      "        district_name  num_owners_with_loans\n",
      "0         Hl.m. Praha                     84\n",
      "1             Karvina                     24\n",
      "2        Brno - mesto                     24\n",
      "3     Ostrava - mesto                     20\n",
      "4                Zlin                     17\n",
      "..                ...                    ...\n",
      "72              Pisek                      3\n",
      "73             Semily                      3\n",
      "74            Sokolov                      2\n",
      "75          Domazlice                      2\n",
      "76  Jablonec n. Nisou                      1\n",
      "\n",
      "[77 rows x 2 columns]\n"
     ]
    }
   ],
   "source": [
    "loan_df = pd.read_json(\"json_output/Loan.json\")\n",
    "disp_df = pd.read_json(\"json_output/New_Disposition.json\")\n",
    "account_df = pd.read_json(\"json_output/New_Account.json\")\n",
    "district_df = pd.read_json(\"json_output/District.json\")\n",
    "\n",
    "owners_df = disp_df[disp_df[\"type\"].str.upper() == \"OWNER\"]\n",
    "owners_with_loans = owners_df.merge(loan_df, on=\"account_id\", how=\"inner\")\n",
    "owners_with_loans = owners_with_loans.merge(account_df[[\"account_id\", \"district_id\"]], on=\"account_id\", how=\"left\")\n",
    "owners_with_loans = owners_with_loans.merge(district_df[[\"A1\", \"A2\"]], left_on=\"district_id\", right_on=\"A1\", how=\"left\")\n",
    "district_counts = owners_with_loans[\"A2\"].value_counts().reset_index()\n",
    "district_counts.columns = [\"district_name\", \"num_owners_with_loans\"]\n",
    "print(district_counts)\n",
    "district_counts.to_json('loans_in_high_crime_districts.json', orient='records', indent=2)"
   ]
  },
  {
   "cell_type": "markdown",
   "metadata": {},
   "source": [
    "Can we say customers from Bohemia are the ones having more male customers possessing\n",
    "Gold cards in comparison of Moravia?"
   ]
  },
  {
   "cell_type": "code",
   "execution_count": 52,
   "metadata": {},
   "outputs": [
    {
     "name": "stdout",
     "output_type": "stream",
     "text": [
      "            region  num_male_gold_customers\n",
      "0    north Moravia                       11\n",
      "1           Prague                        7\n",
      "2    north Bohemia                        7\n",
      "3    south Moravia                        7\n",
      "4  central Bohemia                        7\n",
      "5     west Bohemia                        6\n",
      "6     east Bohemia                        5\n",
      "7    south Bohemia                        3\n"
     ]
    }
   ],
   "source": [
    "card_df = pd.read_json(\"json_output/New_Card.json\")\n",
    "disp_df = pd.read_json(\"json_output/New_Disposition.json\")\n",
    "client_df = pd.read_json(\"json_output/New_Client.json\")\n",
    "district_df = pd.read_json(\"json_output/District.json\")\n",
    "\n",
    "gold_cards = card_df[card_df[\"type\"].str.upper() == \"GOLD\"]\n",
    "gold_disp = gold_cards.merge(disp_df, on=\"disp_id\", how=\"left\")\n",
    "gold_clients = gold_disp.merge(client_df[[\"client_id\", \"gender\", \"district_id\"]], on=\"client_id\", how=\"left\")\n",
    "gold_clients = gold_clients.merge(district_df[[\"A1\", \"A2\", \"A3\"]], left_on=\"district_id\", right_on=\"A1\", how=\"left\")\n",
    "male_gold_clients = gold_clients[gold_clients[\"gender\"].str.upper() == \"MALE\"]\n",
    "region_counts = male_gold_clients[\"A3\"].value_counts().reset_index()\n",
    "region_counts.columns = [\"region\", \"num_male_gold_customers\"]\n",
    "\n",
    "print(region_counts)"
   ]
  },
  {
   "cell_type": "markdown",
   "metadata": {},
   "source": [
    "How many customers having credit card are also availing the loan facilities.\n"
   ]
  },
  {
   "cell_type": "code",
   "execution_count": null,
   "metadata": {},
   "outputs": [
    {
     "name": "stdout",
     "output_type": "stream",
     "text": [
      "Customers with both a Credit Card and Loan: 170\n"
     ]
    }
   ],
   "source": [
    "card_df = pd.read_json(\"json_output/New_Card.json\")\n",
    "disp_df = pd.read_json(\"json_output/New_Disposition.json\")\n",
    "loan_df = pd.read_json(\"json_output/Loan.json\")\n",
    "\n",
    "card_disp = card_df.merge(disp_df[['disp_id', 'client_id']], on='disp_id', how='left')\n",
    "clients_with_cards = set(card_disp['client_id'].dropna().unique())\n",
    "loan_disp = loan_df.merge(disp_df[['account_id', 'client_id']], on='account_id', how='left')\n",
    "clients_with_loans = set(loan_disp['client_id'].dropna().unique())\n",
    "common_clients = clients_with_cards.intersection(clients_with_loans)\n",
    "print(f\"Customers with both a Credit Card and Loan: {len(common_clients)}\")"
   ]
  },
  {
   "cell_type": "markdown",
   "metadata": {},
   "source": [
    "Can we say that customers having Classic and Junior card are the ones who are more in debt."
   ]
  },
  {
   "cell_type": "code",
   "execution_count": null,
   "metadata": {},
   "outputs": [],
   "source": [
    "card_df = pd.read_json(\"json_output/New_Card.json\")\n",
    "disp_df = pd.read_json(\"json_output/New_Disposition.json\")\n",
    "loan_df = pd.read_json(\"json_output/Loan.json\")\n",
    "\n",
    "card_df[\"type\"] = card_df[\"type\"].str.upper()\n",
    "card_holders = card_df.merge(disp_df[[\"disp_id\", \"client_id\", \"account_id\"]], on=\"disp_id\", how=\"left\")\n",
    "total_holders = card_holders[\"type\"].value_counts().reset_index()\n",
    "total_holders.columns = [\"card_type\", \"total_holders\"]\n",
    "loan_debt = loan_df[loan_df[\"status\"] == \"D\"]\n",
    "loan_clients = loan_debt.merge(disp_df[[\"account_id\", \"client_id\"]], on=\"account_id\", how=\"left\")\n",
    "debt_card_holders = card_holders.merge(loan_clients, on=\"client_id\", how=\"inner\")\n",
    "debt_count = debt_card_holders[\"type\"].value_counts().reset_index()\n",
    "debt_count.columns = [\"card_type\", \"num_in_debt\"]\n",
    "merged = total_holders.merge(debt_count, on=\"card_type\", how=\"left\").fillna(0)\n",
    "merged[\"debt_rate (%)\"] = round((merged[\"num_in_debt\"] / merged[\"total_holders\"]) * 100, 2)\n",
    "merged.to_json(\"card_debt_rate.json\", orient=\"records\", indent=2)"
   ]
  },
  {
   "cell_type": "markdown",
   "metadata": {},
   "source": [
    "How will you analyze the performance of Mid age vs adults in terms of loan repayments."
   ]
  },
  {
   "cell_type": "code",
   "execution_count": 65,
   "metadata": {},
   "outputs": [
    {
     "name": "stdout",
     "output_type": "stream",
     "text": [
      "Absolute Counts:\n",
      " status         A   B    C   D\n",
      "age_levels                   \n",
      "ADULT         59   4  129  13\n",
      "MIDDLE AGED  162  22  303  25\n",
      "\n",
      "Percentages:\n",
      " status          A    B     C    D\n",
      "age_levels                       \n",
      "ADULT        29.0  2.0  63.0  6.0\n",
      "MIDDLE AGED  32.0  4.0  59.0  5.0\n"
     ]
    }
   ],
   "source": [
    "loan_df = pd.read_json(\"json_output/Loan.json\")\n",
    "disp_df = pd.read_json(\"json_output/New_Disposition.json\")\n",
    "client_df = pd.read_json(\"json_output/New_Client.json\")\n",
    "\n",
    "loan_disp = loan_df.merge(disp_df[[\"account_id\", \"client_id\"]], on=\"account_id\", how=\"left\")\n",
    "loan_with_age = loan_disp.merge(client_df[[\"client_id\", \"age_levels\"]], on=\"client_id\", how=\"left\")\n",
    "loan_with_age = loan_with_age[loan_with_age[\"age_levels\"].isin([\"MIDDLE AGED\", \"ADULT\"])]\n",
    "summary = loan_with_age.groupby([\"age_levels\", \"status\"]).size().unstack(fill_value=0)\n",
    "summary_percent = summary.div(summary.sum(axis=1), axis=0).round(2) * 100\n",
    "\n",
    "print(\"Absolute Counts:\\n\", summary)\n",
    "print(\"\\nPercentages:\\n\", summary_percent)\n",
    "\n",
    "summary_json = {\n",
    "    \"absolute\": summary.reset_index().to_dict(orient=\"records\"),\n",
    "    \"percentages\": summary_percent.reset_index().to_dict(orient=\"records\")\n",
    "}\n",
    "\n",
    "with open(\"loan_repayment_by_age.json\", \"w\") as f:\n",
    "    json.dump(summary_json, f, indent=2)"
   ]
  }
 ],
 "metadata": {
  "kernelspec": {
   "display_name": "Python 3",
   "language": "python",
   "name": "python3"
  },
  "language_info": {
   "codemirror_mode": {
    "name": "ipython",
    "version": 3
   },
   "file_extension": ".py",
   "mimetype": "text/x-python",
   "name": "python",
   "nbconvert_exporter": "python",
   "pygments_lexer": "ipython3",
   "version": "3.13.2"
  }
 },
 "nbformat": 4,
 "nbformat_minor": 2
}
